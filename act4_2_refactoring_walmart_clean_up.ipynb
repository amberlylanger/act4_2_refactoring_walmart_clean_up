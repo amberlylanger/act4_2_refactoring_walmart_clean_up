{
 "cells": [
  {
   "cell_type": "markdown",
   "id": "3768801a",
   "metadata": {},
   "source": [
    "# Activity 4.2 - Refactoring the Walmart Data Clean Up \n",
    "\n",
    "In Activity 4.1, we started cleaning up the Walmart location data; focusing on the column with store information.  In this activity, we will clean up this code by refactoring the messy bits.\n",
    "\n",
    "Below, I have provided a copy of a solution to the previous activity."
   ]
  },
  {
   "cell_type": "code",
   "execution_count": 1,
   "id": "6f5bba52",
   "metadata": {},
   "outputs": [],
   "source": [
    "import pandas as pd\n",
    "from dfply import *\n",
    "from more_dfply import case_when, ifelse\n",
    "from more_dfply.facets import text_facet, text_filter"
   ]
  },
  {
   "cell_type": "code",
   "execution_count": 2,
   "id": "4f9ef3f9",
   "metadata": {
    "scrolled": true
   },
   "outputs": [
    {
     "data": {
      "text/html": [
       "<div>\n",
       "<style scoped>\n",
       "    .dataframe tbody tr th:only-of-type {\n",
       "        vertical-align: middle;\n",
       "    }\n",
       "\n",
       "    .dataframe tbody tr th {\n",
       "        vertical-align: top;\n",
       "    }\n",
       "\n",
       "    .dataframe thead th {\n",
       "        text-align: right;\n",
       "    }\n",
       "</style>\n",
       "<table border=\"1\" class=\"dataframe\">\n",
       "  <thead>\n",
       "    <tr style=\"text-align: right;\">\n",
       "      <th></th>\n",
       "      <th>long</th>\n",
       "      <th>lat</th>\n",
       "      <th>store</th>\n",
       "      <th>address</th>\n",
       "    </tr>\n",
       "  </thead>\n",
       "  <tbody>\n",
       "    <tr>\n",
       "      <th>0</th>\n",
       "      <td>-114.005671</td>\n",
       "      <td>51.262567</td>\n",
       "      <td>Walmart Supercentre; #1050,</td>\n",
       "      <td>2881 Main St SW,Airdrie ,AB T4B 3G5,(403) 945-...</td>\n",
       "    </tr>\n",
       "    <tr>\n",
       "      <th>1</th>\n",
       "      <td>-111.900542</td>\n",
       "      <td>50.577939</td>\n",
       "      <td>Walmart Supercentre; #3658,</td>\n",
       "      <td>917 3rd St W,Brooks ,AB T1R 1L5,(403) 793-2111</td>\n",
       "    </tr>\n",
       "    <tr>\n",
       "      <th>2</th>\n",
       "      <td>-114.039133</td>\n",
       "      <td>51.107253</td>\n",
       "      <td>Walmart Supercentre; #3013,</td>\n",
       "      <td>1110 57th Ave NE,Calgary ,(NOP),AB T2E 9B7,(40...</td>\n",
       "    </tr>\n",
       "    <tr>\n",
       "      <th>3</th>\n",
       "      <td>-114.138488</td>\n",
       "      <td>51.040871</td>\n",
       "      <td>Walmart Supercentre; #3009,Gas,</td>\n",
       "      <td>1212 37 St SW,Calgary ,(NOP),AB T3C 1S3,(403) ...</td>\n",
       "    </tr>\n",
       "    <tr>\n",
       "      <th>4</th>\n",
       "      <td>-114.028603</td>\n",
       "      <td>50.930551</td>\n",
       "      <td>Walmart; #1144,</td>\n",
       "      <td>1221 Canyon Meadows Dr SE,Calgary ,AB T2J 6G2,...</td>\n",
       "    </tr>\n",
       "  </tbody>\n",
       "</table>\n",
       "</div>"
      ],
      "text/plain": [
       "         long        lat                            store  \\\n",
       "0 -114.005671  51.262567      Walmart Supercentre; #1050,   \n",
       "1 -111.900542  50.577939      Walmart Supercentre; #3658,   \n",
       "2 -114.039133  51.107253      Walmart Supercentre; #3013,   \n",
       "3 -114.138488  51.040871  Walmart Supercentre; #3009,Gas,   \n",
       "4 -114.028603  50.930551                  Walmart; #1144,   \n",
       "\n",
       "                                             address  \n",
       "0  2881 Main St SW,Airdrie ,AB T4B 3G5,(403) 945-...  \n",
       "1     917 3rd St W,Brooks ,AB T1R 1L5,(403) 793-2111  \n",
       "2  1110 57th Ave NE,Calgary ,(NOP),AB T2E 9B7,(40...  \n",
       "3  1212 37 St SW,Calgary ,(NOP),AB T3C 1S3,(403) ...  \n",
       "4  1221 Canyon Meadows Dr SE,Calgary ,AB T2J 6G2,...  "
      ]
     },
     "execution_count": 2,
     "metadata": {},
     "output_type": "execute_result"
    }
   ],
   "source": [
    "header = ['long', 'lat', 'store', 'address'] \n",
    "\n",
    "walmart_locations = pd.read_csv(\"./data/Walmart_United_States_&_Canada_uft8.csv\", \n",
    "                                names = header, \n",
    "                                sep = ',')\n",
    "walmart_locations.head()"
   ]
  },
  {
   "cell_type": "code",
   "execution_count": 3,
   "id": "ae9f75b4",
   "metadata": {},
   "outputs": [
    {
     "data": {
      "text/html": [
       "<div>\n",
       "<style scoped>\n",
       "    .dataframe tbody tr th:only-of-type {\n",
       "        vertical-align: middle;\n",
       "    }\n",
       "\n",
       "    .dataframe tbody tr th {\n",
       "        vertical-align: top;\n",
       "    }\n",
       "\n",
       "    .dataframe thead th {\n",
       "        text-align: right;\n",
       "    }\n",
       "</style>\n",
       "<table border=\"1\" class=\"dataframe\">\n",
       "  <thead>\n",
       "    <tr style=\"text-align: right;\">\n",
       "      <th></th>\n",
       "      <th>store</th>\n",
       "      <th>has_gas</th>\n",
       "      <th>has_diesel</th>\n",
       "      <th>store_type</th>\n",
       "      <th>store_number</th>\n",
       "    </tr>\n",
       "  </thead>\n",
       "  <tbody>\n",
       "    <tr>\n",
       "      <th>0</th>\n",
       "      <td>Walmart Supercentre; #1050</td>\n",
       "      <td>0</td>\n",
       "      <td>0</td>\n",
       "      <td>Walmart Supercentre</td>\n",
       "      <td>#1050</td>\n",
       "    </tr>\n",
       "    <tr>\n",
       "      <th>1</th>\n",
       "      <td>Walmart Supercentre; #3658</td>\n",
       "      <td>0</td>\n",
       "      <td>0</td>\n",
       "      <td>Walmart Supercentre</td>\n",
       "      <td>#3658</td>\n",
       "    </tr>\n",
       "    <tr>\n",
       "      <th>2</th>\n",
       "      <td>Walmart Supercentre; #3013</td>\n",
       "      <td>0</td>\n",
       "      <td>0</td>\n",
       "      <td>Walmart Supercentre</td>\n",
       "      <td>#3013</td>\n",
       "    </tr>\n",
       "    <tr>\n",
       "      <th>3</th>\n",
       "      <td>Walmart Supercentre; #3009</td>\n",
       "      <td>1</td>\n",
       "      <td>0</td>\n",
       "      <td>Walmart Supercentre</td>\n",
       "      <td>#3009</td>\n",
       "    </tr>\n",
       "    <tr>\n",
       "      <th>4</th>\n",
       "      <td>Walmart; #1144</td>\n",
       "      <td>0</td>\n",
       "      <td>0</td>\n",
       "      <td>Walmart</td>\n",
       "      <td>#1144</td>\n",
       "    </tr>\n",
       "  </tbody>\n",
       "</table>\n",
       "</div>"
      ],
      "text/plain": [
       "                        store  has_gas  has_diesel           store_type  \\\n",
       "0  Walmart Supercentre; #1050        0           0  Walmart Supercentre   \n",
       "1  Walmart Supercentre; #3658        0           0  Walmart Supercentre   \n",
       "2  Walmart Supercentre; #3013        0           0  Walmart Supercentre   \n",
       "3  Walmart Supercentre; #3009        1           0  Walmart Supercentre   \n",
       "4              Walmart; #1144        0           0              Walmart   \n",
       "\n",
       "  store_number  \n",
       "0        #1050  \n",
       "1        #3658  \n",
       "2        #3013  \n",
       "3        #3009  \n",
       "4        #1144  "
      ]
     },
     "execution_count": 3,
     "metadata": {},
     "output_type": "execute_result"
    }
   ],
   "source": [
    "# Messy (partial) solution\n",
    "walmart_loc_messy = (walmart_locations\n",
    "                     >> select(X.store)\n",
    "                     >> mutate(has_gas = ifelse(text_filter(X.store, 'Gas'), 1, 0),\n",
    "                               has_diesel = ifelse(text_filter(X.store, 'Gas/Diesel'), 1, 0),\n",
    "                               store = X.store.str.split(',').str.get(0)\n",
    "                              )\n",
    "                     >> mutate(store_type = case_when((text_filter(X.store, ';\\s?#', regex=True),\n",
    "                                                       (X.store\n",
    "                                                        .str.split(';')\n",
    "                                                        .str.get(0))\n",
    "                                                       ),\n",
    "                                                      (True, (X.store \n",
    "                                                              .str.split(',')\n",
    "                                                              .str.get(0)\n",
    "                                                              .str.replace(';', ''))\n",
    "                                                             )\n",
    "                                                     ),\n",
    "                               store_number = case_when((text_filter(X.store, ';\\s?#', regex=True),\n",
    "                                                         (X.store\n",
    "                                                          .str.split(';')\n",
    "                                                          .str.get(1))\n",
    "                                                        ),\n",
    "                                                        (True, (X.store\n",
    "                                                              .str.split(',')\n",
    "                                                              .str.get(1))\n",
    "                                                             )\n",
    "                                                     ),\n",
    "                              )\n",
    "                    )\n",
    "walmart_loc_messy.head()"
   ]
  },
  {
   "cell_type": "markdown",
   "id": "368dbdf7",
   "metadata": {},
   "source": [
    "## What is refactoring?\n",
    "\n",
    "Refactoring code involves\n",
    "\n",
    "1. Identifying part of our code that can be named by their purpose.\n",
    "2. Packaging this code in an variable or function with a good name.\n",
    "3. Replacing the messy code with the variable or function call.\n",
    "4. *Testing that the code still works*\n",
    "\n",
    "We will practice the process together by completing the following tasks.\n",
    "\n",
    "#### Tasks\n",
    "\n",
    "1. Refactoring the `has_gas` expression by saving the `ifelse` intention as a variable.\n",
    "2. Refactoring the `store` expression using a `lambda` to allow reuse in later expressions."
   ]
  },
  {
   "cell_type": "code",
   "execution_count": 6,
   "id": "cc59d067",
   "metadata": {},
   "outputs": [
    {
     "data": {
      "text/plain": [
       "<dfply.base.Intention at 0x7f7e5a18d6d0>"
      ]
     },
     "execution_count": 6,
     "metadata": {},
     "output_type": "execute_result"
    }
   ],
   "source": [
    "ifelse(text_filter(X.store, 'Gas'), 1, 0)"
   ]
  },
  {
   "cell_type": "code",
   "execution_count": 9,
   "id": "96631e4d",
   "metadata": {},
   "outputs": [],
   "source": [
    "# Refactored expressions here\n",
    "does_store_have_gas = ifelse(text_filter(X.store, 'Gas'), 1, 0)\n",
    "split_and_get = lambda sub, index:  X.store.str.split(sub).str.get(index)\n",
    "# Refactored code here\n",
    "walmart_loc_refactored = (walmart_locations\n",
    "                     >> select(X.store)\n",
    "                     >> mutate(has_gas = does_store_have_gas,\n",
    "                               has_diesel = ifelse(text_filter(X.store, 'Gas/Diesel'), 1, 0),\n",
    "                               store = split_and_get(',', 0)\n",
    "                              )\n",
    "                     >> mutate(store_type = case_when((text_filter(X.store, ';\\s?#', regex=True),\n",
    "                                                       (X.store\n",
    "                                                        .str.split(';')\n",
    "                                                        .str.get(0))\n",
    "                                                       ),\n",
    "                                                      (True, (X.store \n",
    "                                                              .str.split(',')\n",
    "                                                              .str.get(0)\n",
    "                                                              .str.replace(';', ''))\n",
    "                                                             )\n",
    "                                                     ),\n",
    "                               store_number = case_when((text_filter(X.store, ';\\s?#', regex=True),\n",
    "                                                         (X.store\n",
    "                                                          .str.split(';')\n",
    "                                                          .str.get(1))\n",
    "                                                        ),\n",
    "                                                        (True, (X.store\n",
    "                                                              .str.split(',')\n",
    "                                                              .str.get(1))\n",
    "                                                             )\n",
    "                                                     ),\n",
    "                              )\n",
    "                    )"
   ]
  },
  {
   "cell_type": "code",
   "execution_count": 13,
   "id": "152ce85f",
   "metadata": {},
   "outputs": [],
   "source": [
    "# Test that nothing has changed\n",
    "\n",
    "assert (walmart_loc_messy.has_gas == walmart_loc_refactored.has_gas).all()\n",
    "assert (walmart_loc_messy.store == walmart_loc_refactored.store).all()"
   ]
  },
  {
   "cell_type": "markdown",
   "id": "faa345c2",
   "metadata": {},
   "source": [
    "#### Problem 1\n",
    "\n",
    "To complete this activity, you should.\n",
    "\n",
    "1. Copy our current progress below.\n",
    "2. Perform each of the following refactors, while adding appropriate `assert` statements to test the results.\n",
    "    - Refactor the rest of the `split` & `get` parts of the code.\n",
    "    - Refactor the remaining `text_filter`.  Note that these are all intentions, so can be saved as variables.\n",
    "    - Refactor any `True` cases to use `else_` instead.  Explain why this is a cleaner approach.\n",
    "    - See if you can come us with a solution to the `split`, `get`, then `replace` expression in the last case.  **Hint:** The best solution will should reuse our previous solution!"
   ]
  },
  {
   "cell_type": "code",
   "execution_count": 28,
   "id": "88f2e2b5",
   "metadata": {},
   "outputs": [
    {
     "ename": "ValueError",
     "evalue": "too many values to unpack (expected 2)",
     "output_type": "error",
     "traceback": [
      "\u001b[0;31m---------------------------------------------------------------------------\u001b[0m",
      "\u001b[0;31mValueError\u001b[0m                                Traceback (most recent call last)",
      "\u001b[1;32m/Users/ek4477ht/Library/CloudStorage/OneDrive-MNSCU/Senior Year/DSCI326/Module 4/act4_2_refactoring_walmart_clean_up/act4_2_refactoring_walmart_clean_up.ipynb Cell 10\u001b[0m in \u001b[0;36m<cell line: 13>\u001b[0;34m()\u001b[0m\n\u001b[1;32m      <a href='vscode-notebook-cell:/Users/ek4477ht/Library/CloudStorage/OneDrive-MNSCU/Senior%20Year/DSCI326/Module%204/act4_2_refactoring_walmart_clean_up/act4_2_refactoring_walmart_clean_up.ipynb#X11sZmlsZQ%3D%3D?line=4'>5</a>\u001b[0m split_store_to_make_store_type \u001b[39m=\u001b[39m case_when(text_filter(X\u001b[39m.\u001b[39mstore, \u001b[39m'\u001b[39m\u001b[39m;\u001b[39m\u001b[39m\\\u001b[39m\u001b[39ms?#\u001b[39m\u001b[39m'\u001b[39m, regex\u001b[39m=\u001b[39m\u001b[39mTrue\u001b[39;00m), (split_and_get(\u001b[39m'\u001b[39m\u001b[39m;\u001b[39m\u001b[39m'\u001b[39m,\u001b[39m0\u001b[39m)), \n\u001b[1;32m      <a href='vscode-notebook-cell:/Users/ek4477ht/Library/CloudStorage/OneDrive-MNSCU/Senior%20Year/DSCI326/Module%204/act4_2_refactoring_walmart_clean_up/act4_2_refactoring_walmart_clean_up.ipynb#X11sZmlsZQ%3D%3D?line=5'>6</a>\u001b[0m                                            (\u001b[39mTrue\u001b[39;00m, ((split_and_get(\u001b[39m'\u001b[39m\u001b[39m,\u001b[39m\u001b[39m'\u001b[39m,\u001b[39m0\u001b[39m))\u001b[39m.\u001b[39mstr\u001b[39m.\u001b[39mreplace(\u001b[39m'\u001b[39m\u001b[39m;\u001b[39m\u001b[39m'\u001b[39m, \u001b[39m'\u001b[39m\u001b[39m'\u001b[39m))))\n\u001b[1;32m     <a href='vscode-notebook-cell:/Users/ek4477ht/Library/CloudStorage/OneDrive-MNSCU/Senior%20Year/DSCI326/Module%204/act4_2_refactoring_walmart_clean_up/act4_2_refactoring_walmart_clean_up.ipynb#X11sZmlsZQ%3D%3D?line=11'>12</a>\u001b[0m \u001b[39m# Refactored code here\u001b[39;00m\n\u001b[0;32m---> <a href='vscode-notebook-cell:/Users/ek4477ht/Library/CloudStorage/OneDrive-MNSCU/Senior%20Year/DSCI326/Module%204/act4_2_refactoring_walmart_clean_up/act4_2_refactoring_walmart_clean_up.ipynb#X11sZmlsZQ%3D%3D?line=12'>13</a>\u001b[0m walmart_loc_refactored \u001b[39m=\u001b[39m (walmart_locations\n\u001b[1;32m     <a href='vscode-notebook-cell:/Users/ek4477ht/Library/CloudStorage/OneDrive-MNSCU/Senior%20Year/DSCI326/Module%204/act4_2_refactoring_walmart_clean_up/act4_2_refactoring_walmart_clean_up.ipynb#X11sZmlsZQ%3D%3D?line=13'>14</a>\u001b[0m                      \u001b[39m>>\u001b[39;49m select(X\u001b[39m.\u001b[39;49mstore)\n\u001b[1;32m     <a href='vscode-notebook-cell:/Users/ek4477ht/Library/CloudStorage/OneDrive-MNSCU/Senior%20Year/DSCI326/Module%204/act4_2_refactoring_walmart_clean_up/act4_2_refactoring_walmart_clean_up.ipynb#X11sZmlsZQ%3D%3D?line=14'>15</a>\u001b[0m                      \u001b[39m>>\u001b[39;49m mutate(has_gas \u001b[39m=\u001b[39;49m does_store_have_gas,\n\u001b[1;32m     <a href='vscode-notebook-cell:/Users/ek4477ht/Library/CloudStorage/OneDrive-MNSCU/Senior%20Year/DSCI326/Module%204/act4_2_refactoring_walmart_clean_up/act4_2_refactoring_walmart_clean_up.ipynb#X11sZmlsZQ%3D%3D?line=15'>16</a>\u001b[0m                                has_diesel \u001b[39m=\u001b[39;49m does_gas_have_diesel,\n\u001b[1;32m     <a href='vscode-notebook-cell:/Users/ek4477ht/Library/CloudStorage/OneDrive-MNSCU/Senior%20Year/DSCI326/Module%204/act4_2_refactoring_walmart_clean_up/act4_2_refactoring_walmart_clean_up.ipynb#X11sZmlsZQ%3D%3D?line=16'>17</a>\u001b[0m                                store \u001b[39m=\u001b[39;49m split_and_get(\u001b[39m'\u001b[39;49m\u001b[39m,\u001b[39;49m\u001b[39m'\u001b[39;49m, \u001b[39m0\u001b[39;49m)\n\u001b[1;32m     <a href='vscode-notebook-cell:/Users/ek4477ht/Library/CloudStorage/OneDrive-MNSCU/Senior%20Year/DSCI326/Module%204/act4_2_refactoring_walmart_clean_up/act4_2_refactoring_walmart_clean_up.ipynb#X11sZmlsZQ%3D%3D?line=17'>18</a>\u001b[0m                               )\n\u001b[1;32m     <a href='vscode-notebook-cell:/Users/ek4477ht/Library/CloudStorage/OneDrive-MNSCU/Senior%20Year/DSCI326/Module%204/act4_2_refactoring_walmart_clean_up/act4_2_refactoring_walmart_clean_up.ipynb#X11sZmlsZQ%3D%3D?line=18'>19</a>\u001b[0m                      \u001b[39m>>\u001b[39;49m mutate(store_type \u001b[39m=\u001b[39;49m split_store_to_make_store_type,\n\u001b[1;32m     <a href='vscode-notebook-cell:/Users/ek4477ht/Library/CloudStorage/OneDrive-MNSCU/Senior%20Year/DSCI326/Module%204/act4_2_refactoring_walmart_clean_up/act4_2_refactoring_walmart_clean_up.ipynb#X11sZmlsZQ%3D%3D?line=19'>20</a>\u001b[0m                                store_number \u001b[39m=\u001b[39;49m case_when((text_filter(X\u001b[39m.\u001b[39;49mstore, \u001b[39m'\u001b[39;49m\u001b[39m;\u001b[39;49m\u001b[39m\\\u001b[39;49m\u001b[39ms?#\u001b[39;49m\u001b[39m'\u001b[39;49m, regex\u001b[39m=\u001b[39;49m\u001b[39mTrue\u001b[39;49;00m),\n\u001b[1;32m     <a href='vscode-notebook-cell:/Users/ek4477ht/Library/CloudStorage/OneDrive-MNSCU/Senior%20Year/DSCI326/Module%204/act4_2_refactoring_walmart_clean_up/act4_2_refactoring_walmart_clean_up.ipynb#X11sZmlsZQ%3D%3D?line=20'>21</a>\u001b[0m                                                          (split_and_get(\u001b[39m'\u001b[39;49m\u001b[39m;\u001b[39;49m\u001b[39m'\u001b[39;49m,\u001b[39m1\u001b[39;49m))\n\u001b[1;32m     <a href='vscode-notebook-cell:/Users/ek4477ht/Library/CloudStorage/OneDrive-MNSCU/Senior%20Year/DSCI326/Module%204/act4_2_refactoring_walmart_clean_up/act4_2_refactoring_walmart_clean_up.ipynb#X11sZmlsZQ%3D%3D?line=21'>22</a>\u001b[0m                                                         ),\n\u001b[1;32m     <a href='vscode-notebook-cell:/Users/ek4477ht/Library/CloudStorage/OneDrive-MNSCU/Senior%20Year/DSCI326/Module%204/act4_2_refactoring_walmart_clean_up/act4_2_refactoring_walmart_clean_up.ipynb#X11sZmlsZQ%3D%3D?line=22'>23</a>\u001b[0m                                                         (\u001b[39mTrue\u001b[39;49;00m, (split_and_get(\u001b[39m'\u001b[39;49m\u001b[39m,\u001b[39;49m\u001b[39m'\u001b[39;49m,\u001b[39m1\u001b[39;49m))\n\u001b[1;32m     <a href='vscode-notebook-cell:/Users/ek4477ht/Library/CloudStorage/OneDrive-MNSCU/Senior%20Year/DSCI326/Module%204/act4_2_refactoring_walmart_clean_up/act4_2_refactoring_walmart_clean_up.ipynb#X11sZmlsZQ%3D%3D?line=23'>24</a>\u001b[0m                                                              )\n\u001b[1;32m     <a href='vscode-notebook-cell:/Users/ek4477ht/Library/CloudStorage/OneDrive-MNSCU/Senior%20Year/DSCI326/Module%204/act4_2_refactoring_walmart_clean_up/act4_2_refactoring_walmart_clean_up.ipynb#X11sZmlsZQ%3D%3D?line=24'>25</a>\u001b[0m                                                      ),\n\u001b[1;32m     <a href='vscode-notebook-cell:/Users/ek4477ht/Library/CloudStorage/OneDrive-MNSCU/Senior%20Year/DSCI326/Module%204/act4_2_refactoring_walmart_clean_up/act4_2_refactoring_walmart_clean_up.ipynb#X11sZmlsZQ%3D%3D?line=25'>26</a>\u001b[0m                               )\n\u001b[1;32m     <a href='vscode-notebook-cell:/Users/ek4477ht/Library/CloudStorage/OneDrive-MNSCU/Senior%20Year/DSCI326/Module%204/act4_2_refactoring_walmart_clean_up/act4_2_refactoring_walmart_clean_up.ipynb#X11sZmlsZQ%3D%3D?line=26'>27</a>\u001b[0m                    \u001b[39m#  >> mutate(matches_old_number = walmart_loc_messy.store_number == walmart_loc_refactored.store_number).all()\u001b[39;00m\n\u001b[1;32m     <a href='vscode-notebook-cell:/Users/ek4477ht/Library/CloudStorage/OneDrive-MNSCU/Senior%20Year/DSCI326/Module%204/act4_2_refactoring_walmart_clean_up/act4_2_refactoring_walmart_clean_up.ipynb#X11sZmlsZQ%3D%3D?line=27'>28</a>\u001b[0m                    \u001b[39m#  >> filter_by(~X.matches_old_number)\u001b[39;00m\n\u001b[1;32m     <a href='vscode-notebook-cell:/Users/ek4477ht/Library/CloudStorage/OneDrive-MNSCU/Senior%20Year/DSCI326/Module%204/act4_2_refactoring_walmart_clean_up/act4_2_refactoring_walmart_clean_up.ipynb#X11sZmlsZQ%3D%3D?line=28'>29</a>\u001b[0m                     )\n",
      "File \u001b[0;32m~/.pyenv/versions/anaconda3-2022.05/lib/python3.9/site-packages/dfply/base.py:142\u001b[0m, in \u001b[0;36mpipe.__rrshift__\u001b[0;34m(self, other)\u001b[0m\n\u001b[1;32m    139\u001b[0m     warnings\u001b[39m.\u001b[39msimplefilter(\u001b[39m\"\u001b[39m\u001b[39mignore\u001b[39m\u001b[39m\"\u001b[39m)\n\u001b[1;32m    140\u001b[0m     other_copy\u001b[39m.\u001b[39m_grouped_by \u001b[39m=\u001b[39m \u001b[39mgetattr\u001b[39m(other, \u001b[39m'\u001b[39m\u001b[39m_grouped_by\u001b[39m\u001b[39m'\u001b[39m, \u001b[39mNone\u001b[39;00m)\n\u001b[0;32m--> 142\u001b[0m result \u001b[39m=\u001b[39m \u001b[39mself\u001b[39;49m\u001b[39m.\u001b[39;49mfunction(other_copy)\n\u001b[1;32m    144\u001b[0m \u001b[39mfor\u001b[39;00m p \u001b[39min\u001b[39;00m \u001b[39mself\u001b[39m\u001b[39m.\u001b[39mchained_pipes:\n\u001b[1;32m    145\u001b[0m     result \u001b[39m=\u001b[39m p\u001b[39m.\u001b[39m\u001b[39m__rrshift__\u001b[39m(result)\n",
      "File \u001b[0;32m~/.pyenv/versions/anaconda3-2022.05/lib/python3.9/site-packages/dfply/base.py:149\u001b[0m, in \u001b[0;36mpipe.__call__.<locals>.<lambda>\u001b[0;34m(x)\u001b[0m\n\u001b[1;32m    148\u001b[0m \u001b[39mdef\u001b[39;00m \u001b[39m__call__\u001b[39m(\u001b[39mself\u001b[39m, \u001b[39m*\u001b[39margs, \u001b[39m*\u001b[39m\u001b[39m*\u001b[39mkwargs):\n\u001b[0;32m--> 149\u001b[0m     \u001b[39mreturn\u001b[39;00m pipe(\u001b[39mlambda\u001b[39;00m x: \u001b[39mself\u001b[39;49m\u001b[39m.\u001b[39;49mfunction(x, \u001b[39m*\u001b[39;49margs, \u001b[39m*\u001b[39;49m\u001b[39m*\u001b[39;49mkwargs))\n",
      "File \u001b[0;32m~/.pyenv/versions/anaconda3-2022.05/lib/python3.9/site-packages/dfply/base.py:329\u001b[0m, in \u001b[0;36mgroup_delegation.__call__\u001b[0;34m(self, *args, **kwargs)\u001b[0m\n\u001b[1;32m    327\u001b[0m grouped_by \u001b[39m=\u001b[39m \u001b[39mgetattr\u001b[39m(args[\u001b[39m0\u001b[39m], \u001b[39m'\u001b[39m\u001b[39m_grouped_by\u001b[39m\u001b[39m'\u001b[39m, \u001b[39mNone\u001b[39;00m)\n\u001b[1;32m    328\u001b[0m \u001b[39mif\u001b[39;00m (grouped_by \u001b[39mis\u001b[39;00m \u001b[39mNone\u001b[39;00m) \u001b[39mor\u001b[39;00m \u001b[39mnot\u001b[39;00m \u001b[39mall\u001b[39m([g \u001b[39min\u001b[39;00m args[\u001b[39m0\u001b[39m]\u001b[39m.\u001b[39mcolumns \u001b[39mfor\u001b[39;00m g \u001b[39min\u001b[39;00m grouped_by]):\n\u001b[0;32m--> 329\u001b[0m     \u001b[39mreturn\u001b[39;00m \u001b[39mself\u001b[39;49m\u001b[39m.\u001b[39;49mfunction(\u001b[39m*\u001b[39;49margs, \u001b[39m*\u001b[39;49m\u001b[39m*\u001b[39;49mkwargs)\n\u001b[1;32m    330\u001b[0m \u001b[39melse\u001b[39;00m:\n\u001b[1;32m    331\u001b[0m     applied \u001b[39m=\u001b[39m \u001b[39mself\u001b[39m\u001b[39m.\u001b[39m_apply(args[\u001b[39m0\u001b[39m], \u001b[39m*\u001b[39margs[\u001b[39m1\u001b[39m:], \u001b[39m*\u001b[39m\u001b[39m*\u001b[39mkwargs)\n",
      "File \u001b[0;32m~/.pyenv/versions/anaconda3-2022.05/lib/python3.9/site-packages/dfply/base.py:280\u001b[0m, in \u001b[0;36mIntentionEvaluator.__call__\u001b[0;34m(self, *args, **kwargs)\u001b[0m\n\u001b[1;32m    277\u001b[0m df \u001b[39m=\u001b[39m args[\u001b[39m0\u001b[39m]\n\u001b[1;32m    279\u001b[0m args \u001b[39m=\u001b[39m \u001b[39mself\u001b[39m\u001b[39m.\u001b[39m_recursive_arg_eval(df, args[\u001b[39m1\u001b[39m:])\n\u001b[0;32m--> 280\u001b[0m kwargs \u001b[39m=\u001b[39m \u001b[39mself\u001b[39;49m\u001b[39m.\u001b[39;49m_recursive_kwarg_eval(df, kwargs)\n\u001b[1;32m    282\u001b[0m \u001b[39mreturn\u001b[39;00m \u001b[39mself\u001b[39m\u001b[39m.\u001b[39mfunction(df, \u001b[39m*\u001b[39margs, \u001b[39m*\u001b[39m\u001b[39m*\u001b[39mkwargs)\n",
      "File \u001b[0;32m~/.pyenv/versions/anaconda3-2022.05/lib/python3.9/site-packages/dfply/base.py:254\u001b[0m, in \u001b[0;36mIntentionEvaluator._recursive_kwarg_eval\u001b[0;34m(self, df, kwargs)\u001b[0m\n\u001b[1;32m    251\u001b[0m eval_as_label \u001b[39m=\u001b[39m \u001b[39mself\u001b[39m\u001b[39m.\u001b[39m_find_eval_kwargs(\u001b[39mself\u001b[39m\u001b[39m.\u001b[39meval_as_label, kwargs)\n\u001b[1;32m    252\u001b[0m eval_as_selector \u001b[39m=\u001b[39m \u001b[39mself\u001b[39m\u001b[39m.\u001b[39m_find_eval_kwargs(\u001b[39mself\u001b[39m\u001b[39m.\u001b[39meval_as_selector, kwargs)\n\u001b[0;32m--> 254\u001b[0m \u001b[39mreturn\u001b[39;00m {\n\u001b[1;32m    255\u001b[0m     k: (\u001b[39mself\u001b[39m\u001b[39m.\u001b[39m_symbolic_to_label(df, v) \u001b[39mif\u001b[39;00m k \u001b[39min\u001b[39;00m eval_as_label\n\u001b[1;32m    256\u001b[0m         \u001b[39melse\u001b[39;00m \u001b[39mself\u001b[39m\u001b[39m.\u001b[39m_symbolic_to_selector(df, v) \u001b[39mif\u001b[39;00m k \u001b[39min\u001b[39;00m eval_as_selector\n\u001b[1;32m    257\u001b[0m     \u001b[39melse\u001b[39;00m \u001b[39mself\u001b[39m\u001b[39m.\u001b[39m_symbolic_eval(df, v) \u001b[39mif\u001b[39;00m k \u001b[39min\u001b[39;00m eval_symbols\n\u001b[1;32m    258\u001b[0m     \u001b[39melse\u001b[39;00m v)\n\u001b[1;32m    259\u001b[0m     \u001b[39mfor\u001b[39;00m k, v \u001b[39min\u001b[39;00m kwargs\u001b[39m.\u001b[39mitems()\n\u001b[1;32m    260\u001b[0m }\n",
      "File \u001b[0;32m~/.pyenv/versions/anaconda3-2022.05/lib/python3.9/site-packages/dfply/base.py:257\u001b[0m, in \u001b[0;36m<dictcomp>\u001b[0;34m(.0)\u001b[0m\n\u001b[1;32m    251\u001b[0m eval_as_label \u001b[39m=\u001b[39m \u001b[39mself\u001b[39m\u001b[39m.\u001b[39m_find_eval_kwargs(\u001b[39mself\u001b[39m\u001b[39m.\u001b[39meval_as_label, kwargs)\n\u001b[1;32m    252\u001b[0m eval_as_selector \u001b[39m=\u001b[39m \u001b[39mself\u001b[39m\u001b[39m.\u001b[39m_find_eval_kwargs(\u001b[39mself\u001b[39m\u001b[39m.\u001b[39meval_as_selector, kwargs)\n\u001b[1;32m    254\u001b[0m \u001b[39mreturn\u001b[39;00m {\n\u001b[1;32m    255\u001b[0m     k: (\u001b[39mself\u001b[39m\u001b[39m.\u001b[39m_symbolic_to_label(df, v) \u001b[39mif\u001b[39;00m k \u001b[39min\u001b[39;00m eval_as_label\n\u001b[1;32m    256\u001b[0m         \u001b[39melse\u001b[39;00m \u001b[39mself\u001b[39m\u001b[39m.\u001b[39m_symbolic_to_selector(df, v) \u001b[39mif\u001b[39;00m k \u001b[39min\u001b[39;00m eval_as_selector\n\u001b[0;32m--> 257\u001b[0m     \u001b[39melse\u001b[39;00m \u001b[39mself\u001b[39;49m\u001b[39m.\u001b[39;49m_symbolic_eval(df, v) \u001b[39mif\u001b[39;00m k \u001b[39min\u001b[39;00m eval_symbols\n\u001b[1;32m    258\u001b[0m     \u001b[39melse\u001b[39;00m v)\n\u001b[1;32m    259\u001b[0m     \u001b[39mfor\u001b[39;00m k, v \u001b[39min\u001b[39;00m kwargs\u001b[39m.\u001b[39mitems()\n\u001b[1;32m    260\u001b[0m }\n",
      "File \u001b[0;32m~/.pyenv/versions/anaconda3-2022.05/lib/python3.9/site-packages/dfply/base.py:228\u001b[0m, in \u001b[0;36mIntentionEvaluator._symbolic_eval\u001b[0;34m(self, df, arg)\u001b[0m\n\u001b[1;32m    227\u001b[0m \u001b[39mdef\u001b[39;00m \u001b[39m_symbolic_eval\u001b[39m(\u001b[39mself\u001b[39m, df, arg):\n\u001b[0;32m--> 228\u001b[0m     \u001b[39mreturn\u001b[39;00m \u001b[39mself\u001b[39;49m\u001b[39m.\u001b[39;49m_evaluator_loop(df, arg, \u001b[39mself\u001b[39;49m\u001b[39m.\u001b[39;49m_evaluate)\n",
      "File \u001b[0;32m~/.pyenv/versions/anaconda3-2022.05/lib/python3.9/site-packages/dfply/base.py:225\u001b[0m, in \u001b[0;36mIntentionEvaluator._evaluator_loop\u001b[0;34m(self, df, arg, eval_func)\u001b[0m\n\u001b[1;32m    223\u001b[0m     \u001b[39mreturn\u001b[39;00m [\u001b[39mself\u001b[39m\u001b[39m.\u001b[39m_evaluator_loop(df, a_, eval_func) \u001b[39mfor\u001b[39;00m a_ \u001b[39min\u001b[39;00m arg]\n\u001b[1;32m    224\u001b[0m \u001b[39melse\u001b[39;00m:\n\u001b[0;32m--> 225\u001b[0m     \u001b[39mreturn\u001b[39;00m eval_func(df, arg)\n",
      "File \u001b[0;32m~/.pyenv/versions/anaconda3-2022.05/lib/python3.9/site-packages/dfply/base.py:175\u001b[0m, in \u001b[0;36mIntentionEvaluator._evaluate\u001b[0;34m(self, df, arg)\u001b[0m\n\u001b[1;32m    173\u001b[0m \u001b[39mif\u001b[39;00m \u001b[39misinstance\u001b[39m(arg, Intention):\n\u001b[1;32m    174\u001b[0m     negate \u001b[39m=\u001b[39m arg\u001b[39m.\u001b[39minverted\n\u001b[0;32m--> 175\u001b[0m     arg \u001b[39m=\u001b[39m arg\u001b[39m.\u001b[39;49mevaluate(df)\n\u001b[1;32m    176\u001b[0m     \u001b[39mif\u001b[39;00m negate:\n\u001b[1;32m    177\u001b[0m         arg \u001b[39m=\u001b[39m \u001b[39m~\u001b[39marg\n",
      "File \u001b[0;32m~/.pyenv/versions/anaconda3-2022.05/lib/python3.9/site-packages/dfply/base.py:71\u001b[0m, in \u001b[0;36mIntention.evaluate\u001b[0;34m(self, context)\u001b[0m\n\u001b[1;32m     70\u001b[0m \u001b[39mdef\u001b[39;00m \u001b[39mevaluate\u001b[39m(\u001b[39mself\u001b[39m, context):\n\u001b[0;32m---> 71\u001b[0m     \u001b[39mreturn\u001b[39;00m \u001b[39mself\u001b[39;49m\u001b[39m.\u001b[39;49mfunction(context)\n",
      "File \u001b[0;32m~/.pyenv/versions/anaconda3-2022.05/lib/python3.9/site-packages/dfply/base.py:49\u001b[0m, in \u001b[0;36m_delayed_function.<locals>.<lambda>\u001b[0;34m(x)\u001b[0m\n\u001b[1;32m     48\u001b[0m \u001b[39mdef\u001b[39;00m \u001b[39m_delayed_function\u001b[39m(function, args, kwargs):\n\u001b[0;32m---> 49\u001b[0m     \u001b[39mreturn\u001b[39;00m \u001b[39mlambda\u001b[39;00m x: function(\u001b[39m*\u001b[39;49m_context_args(args)(x),\n\u001b[1;32m     50\u001b[0m                               \u001b[39m*\u001b[39;49m\u001b[39m*\u001b[39;49m_context_kwargs(kwargs)(x))\n",
      "File \u001b[0;32m~/.pyenv/versions/anaconda3-2022.05/lib/python3.9/site-packages/more_dfply/more_dfply.py:202\u001b[0m, in \u001b[0;36mcase_when\u001b[0;34m(default, *args)\u001b[0m\n\u001b[1;32m    200\u001b[0m \u001b[39m@make_symbolic\u001b[39m\n\u001b[1;32m    201\u001b[0m \u001b[39mdef\u001b[39;00m \u001b[39mcase_when\u001b[39m(\u001b[39m*\u001b[39margs, default\u001b[39m=\u001b[39mnp\u001b[39m.\u001b[39mnan):\n\u001b[0;32m--> 202\u001b[0m     lengths \u001b[39m=\u001b[39m ([get_length(t) \u001b[39mfor\u001b[39;00m c, t \u001b[39min\u001b[39;00m args] \n\u001b[1;32m    203\u001b[0m               \u001b[39m+\u001b[39m [get_length(c) \u001b[39mfor\u001b[39;00m c, t \u001b[39min\u001b[39;00m args])\n\u001b[1;32m    204\u001b[0m     n \u001b[39m=\u001b[39m \u001b[39mmax\u001b[39m(lengths)\n\u001b[1;32m    205\u001b[0m     \u001b[39massert\u001b[39;00m \u001b[39mall\u001b[39m(l \u001b[39m==\u001b[39m \u001b[39m1\u001b[39m \u001b[39mor\u001b[39;00m l \u001b[39m==\u001b[39m n \u001b[39mfor\u001b[39;00m l \u001b[39min\u001b[39;00m lengths), \u001b[39m\"\u001b[39m\u001b[39mAll LHS and RHS need to be singletons or the same length.\u001b[39m\u001b[39m\"\u001b[39m\n",
      "File \u001b[0;32m~/.pyenv/versions/anaconda3-2022.05/lib/python3.9/site-packages/more_dfply/more_dfply.py:202\u001b[0m, in \u001b[0;36m<listcomp>\u001b[0;34m(.0)\u001b[0m\n\u001b[1;32m    200\u001b[0m \u001b[39m@make_symbolic\u001b[39m\n\u001b[1;32m    201\u001b[0m \u001b[39mdef\u001b[39;00m \u001b[39mcase_when\u001b[39m(\u001b[39m*\u001b[39margs, default\u001b[39m=\u001b[39mnp\u001b[39m.\u001b[39mnan):\n\u001b[0;32m--> 202\u001b[0m     lengths \u001b[39m=\u001b[39m ([get_length(t) \u001b[39mfor\u001b[39;00m c, t \u001b[39min\u001b[39;00m args] \n\u001b[1;32m    203\u001b[0m               \u001b[39m+\u001b[39m [get_length(c) \u001b[39mfor\u001b[39;00m c, t \u001b[39min\u001b[39;00m args])\n\u001b[1;32m    204\u001b[0m     n \u001b[39m=\u001b[39m \u001b[39mmax\u001b[39m(lengths)\n\u001b[1;32m    205\u001b[0m     \u001b[39massert\u001b[39;00m \u001b[39mall\u001b[39m(l \u001b[39m==\u001b[39m \u001b[39m1\u001b[39m \u001b[39mor\u001b[39;00m l \u001b[39m==\u001b[39m n \u001b[39mfor\u001b[39;00m l \u001b[39min\u001b[39;00m lengths), \u001b[39m\"\u001b[39m\u001b[39mAll LHS and RHS need to be singletons or the same length.\u001b[39m\u001b[39m\"\u001b[39m\n",
      "\u001b[0;31mValueError\u001b[0m: too many values to unpack (expected 2)"
     ]
    }
   ],
   "source": [
    "# Copy and continue to refactor here\n",
    "does_store_have_gas = ifelse(text_filter(X.store, 'Gas'), 1, 0)\n",
    "does_gas_have_diesel = ifelse(text_filter(X.store, 'Gas/Diesel'), 1, 0)\n",
    "split_and_get = lambda sub, index:  X.store.str.split(sub).str.get(index)\n",
    "split_store_to_make_store_type = case_when(text_filter(X.store, ';\\s?#', regex=True), (split_and_get(';',0)), \n",
    "                                           (True, ((split_and_get(',',0)).str.replace(';', ''))))\n",
    "                                                             \n",
    "\n",
    "\n",
    "\n",
    "\n",
    "# Refactored code here\n",
    "walmart_loc_refactored = (walmart_locations\n",
    "                     >> select(X.store)\n",
    "                     >> mutate(has_gas = does_store_have_gas,\n",
    "                               has_diesel = does_gas_have_diesel,\n",
    "                               store = split_and_get(',', 0)\n",
    "                              )\n",
    "                     >> mutate(store_type = split_store_to_make_store_type,\n",
    "                               store_number = case_when((text_filter(X.store, ';\\s?#', regex=True),\n",
    "                                                         (split_and_get(';',1))\n",
    "                                                        ),\n",
    "                                                        (True, (split_and_get(',',1))\n",
    "                                                             )\n",
    "                                                     ),\n",
    "                              )\n",
    "                   #  >> mutate(matches_old_number = walmart_loc_messy.store_number == walmart_loc_refactored.store_number).all()\n",
    "                   #  >> filter_by(~X.matches_old_number)\n",
    "                    )\n"
   ]
  },
  {
   "cell_type": "code",
   "execution_count": 20,
   "id": "65082974",
   "metadata": {},
   "outputs": [
    {
     "data": {
      "text/plain": [
       "False"
      ]
     },
     "execution_count": 20,
     "metadata": {},
     "output_type": "execute_result"
    }
   ],
   "source": [
    "(walmart_loc_messy.store_number == walmart_loc_refactored.store_number).all()"
   ]
  },
  {
   "cell_type": "code",
   "execution_count": 27,
   "id": "e46a570e",
   "metadata": {},
   "outputs": [],
   "source": [
    "# Test that nothing has changed\n",
    "\n",
    "assert (walmart_loc_messy.has_gas == walmart_loc_refactored.has_gas).all()\n",
    "assert (walmart_loc_messy.has_diesel == walmart_loc_refactored.has_diesel).all()\n",
    "assert (walmart_loc_messy.store == walmart_loc_refactored.store).all()\n",
    "assert (walmart_loc_messy.store_type== walmart_loc_refactored.store_type).all()\n",
    "#assert (walmart_loc_messy.store_number == walmart_loc_refactored.store_number).all()"
   ]
  },
  {
   "cell_type": "code",
   "execution_count": null,
   "id": "a51c140c",
   "metadata": {},
   "outputs": [],
   "source": []
  }
 ],
 "metadata": {
  "kernelspec": {
   "display_name": "Python 3.9.12 64-bit ('base')",
   "language": "python",
   "name": "python3"
  },
  "language_info": {
   "codemirror_mode": {
    "name": "ipython",
    "version": 3
   },
   "file_extension": ".py",
   "mimetype": "text/x-python",
   "name": "python",
   "nbconvert_exporter": "python",
   "pygments_lexer": "ipython3",
   "version": "3.9.12"
  },
  "vscode": {
   "interpreter": {
    "hash": "4f3b02e4c36ae10a95ce2089df78df02ee7725d6d44042c13cca888e72f49ed2"
   }
  }
 },
 "nbformat": 4,
 "nbformat_minor": 5
}
